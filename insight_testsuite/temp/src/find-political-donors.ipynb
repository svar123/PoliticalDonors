{
 "cells": [
  {
   "cell_type": "code",
   "execution_count": 610,
   "metadata": {},
   "outputs": [],
   "source": [
    "import numpy as np\n",
    "import csv\n",
    "import re\n",
    "import statistics\n",
    "\n",
    "#from collections import Counter"
   ]
  },
  {
   "cell_type": "code",
   "execution_count": 616,
   "metadata": {},
   "outputs": [],
   "source": [
    "#read in the input files into a list\n",
    "in_data_lst=[]\n",
    "with open('../input/itcont.txt','rt') as csvfile:\n",
    "    input_val = csv.reader(csvfile, delimiter='|')\n",
    "    for row in input_val:\n",
    "        in_data_lst.append(row)\n"
   ]
  },
  {
   "cell_type": "code",
   "execution_count": 632,
   "metadata": {},
   "outputs": [
    {
     "name": "stdout",
     "output_type": "stream",
     "text": [
      "C00177436|30004|384|1|384\n",
      "C00384818|02895|250|1|250\n",
      "C00177436|30750|230|1|230\n",
      "C00177436|04105|384|1|384\n",
      "C00384818|02895|292|2|583\n",
      "C00177436|04105|384|2|768\n",
      "C00177436|01312017|384|4|1382\n",
      "C00384818|01122017|292|2|583\n"
     ]
    }
   ],
   "source": [
    "def preprocess_data(data):\n",
    "    id_zip_dict = {}\n",
    "    id_date_dict = {}\n",
    "    id_zip_amt_dict = {}\n",
    "    id_date_amt_dict = {}\n",
    "    \n",
    "    year = r\"(^[0-9]{4}(2015|2016|2017)$)\"\n",
    "    zipcode=r\"(^[0-9]{5}$)\"\n",
    "    for i in range(len(data)):\n",
    "        if ((data[i][0] == '')   # CMTE_ID is blank\n",
    "            or (data[i][14] == '') #TRANSACTION_AMT is blank\n",
    "               or (data[i][15] != '')): #OTHER_ID is not blank\n",
    "                    continue\n",
    "        zip_flag = False\n",
    "        year_flag = False\n",
    "        if len(data[i][10]) > 5: #if zipcode greater than 5 digits\n",
    "            zipc = data[i][10][0:5]       \n",
    "        if re.match(zipcode,zipc):\n",
    "            zip_flag = True   #zipcode is valid\n",
    "        date = data[i][13]\n",
    "        if re.match(year,date):\n",
    "            year_flag = True  #year is valid and between 2015-2017\n",
    "            \n",
    "        id_zip_dict,id_zip_amt_dict = process_id_zip(zip_flag,year_flag,data[i][0],zipc,data[i][14],id_zip_dict,id_zip_amt_dict)\n",
    "        med = round(statistics.median(id_zip_amt_dict[(data[i][0],zipc)]))\n",
    "        print_info_zip(data[i][0],zipc,id_zip_dict[(data[i][0],zipc)][1],id_zip_dict[(data[i][0],zipc)][0],med)\n",
    "        \n",
    "        id_date_dict,id_date_amt_dict = process_id_date(year_flag,data[i][0],date,data[i][14],id_date_dict,id_date_amt_dict)\n",
    "#    \n",
    "    for keys in sorted(id_date_dict.items()):\n",
    "        med_date = round(statistics.median(id_date_amt_dict[keys[0]]))\n",
    "        print_info_date(keys[0][0],keys[0][1],keys[1][1],keys[1][0],med_date)\n",
    "\n",
    "preprocess_data(in_data_lst) "
   ]
  },
  {
   "cell_type": "code",
   "execution_count": 612,
   "metadata": {},
   "outputs": [],
   "source": [
    "def print_info_zip(custid,zipcode,freq,amt,med):\n",
    "    print (custid+\"|\"+zipcode+\"|\"+str(med)+\"|\"+str(freq)+\"|\"+str(amt))\n",
    "\n",
    "def print_info_date(custid,date,freq,amt,med_date):\n",
    "    print (custid+\"|\"+date+\"|\"+str(med_date)+\"|\"+str(freq)+\"|\"+str(amt))"
   ]
  },
  {
   "cell_type": "code",
   "execution_count": 613,
   "metadata": {},
   "outputs": [],
   "source": [
    "def process_id_date(year_flag,custid,date,amt,id_date_dict,id_date_amt_dict):\n",
    "    if ((custid,date) not in id_date_dict):\n",
    "        fr = 1\n",
    "        am = int(amt)\n",
    "        if year_flag : #rule 4 year not invalid\n",
    "            id_date_dict[(custid,date)]=[am,fr]\n",
    "            id_date_amt_dict[custid,date] = [am]\n",
    "    else:\n",
    "        fr = id_date_dict[(custid,date)][1] + 1\n",
    "        am = id_date_dict[(custid,date)][0] + int(amt)\n",
    "        if year_flag:\n",
    "            id_date_dict[(custid,date)]=[am,fr]\n",
    "            id_date_amt_dict[(custid,date)].append(int(amt))\n",
    "        #sort the amt list\n",
    "            id_date_amt_dict = {x:sorted(id_date_amt_dict[x]) for x in id_date_amt_dict.keys()}\n",
    "    return (id_date_dict,id_date_amt_dict)           "
   ]
  },
  {
   "cell_type": "code",
   "execution_count": 614,
   "metadata": {
    "collapsed": true
   },
   "outputs": [],
   "source": [
    "def process_id_zip(zip_flag,year_flag,custid,zipc,amt,id_zip_dict,id_zip_amt_dict):\n",
    "    if zip_flag and year_flag:\n",
    "        if ((custid,zipc) not in id_zip_dict):\n",
    "            fr = 1\n",
    "            am = int(amt)\n",
    "            id_zip_dict[(custid,zipc)]=[am,fr]\n",
    "            id_zip_amt_dict[custid,zipc] = [am]\n",
    "        else:\n",
    "            fr = id_zip_dict[(custid,zipc)][1] + 1\n",
    "            am = id_zip_dict[(custid,zipc)][0] + int(amt)           \n",
    "            id_zip_dict[(custid,zipc)]=[am,fr]\n",
    "            id_zip_amt_dict[(custid,zipc)].append(int(amt))\n",
    "            #sort the amt list\n",
    "            id_zip_amt_dict = {x:sorted(id_zip_amt_dict[x]) for x in id_zip_amt_dict.keys()}\n",
    "    return (id_zip_dict,id_zip_amt_dict)       \n",
    "            \n",
    "            "
   ]
  },
  {
   "cell_type": "code",
   "execution_count": 619,
   "metadata": {},
   "outputs": [
    {
     "name": "stdout",
     "output_type": "stream",
     "text": [
      "ABC\n"
     ]
    }
   ],
   "source": [
    "import sys\n",
    "\n",
    "def main(argv):\n",
    "\n",
    "\n",
    "if __name__ == \"__main__\":\n",
    "    main(sys.argv)"
   ]
  },
  {
   "cell_type": "code",
   "execution_count": 636,
   "metadata": {},
   "outputs": [
    {
     "name": "stdout",
     "output_type": "stream",
     "text": [
      "yes zip\n"
     ]
    }
   ],
   "source": [
    "year = r\"(^[0-9]{4}(2015|2016|2017)$)\"\n",
    "zipcode=r\"(^[0-9]{5}$)\"\n",
    "\n",
    "y = '012a2015'\n",
    "z = '92033'\n",
    "\n",
    "if re.match(year,y):\n",
    "    print (\"yes date\")\n",
    "\n",
    "if re.match(zipcode,z):\n",
    "    print (\"yes zip\")"
   ]
  },
  {
   "cell_type": "code",
   "execution_count": null,
   "metadata": {
    "collapsed": true
   },
   "outputs": [],
   "source": [
    "import sys\n",
    "import numpy as np\n",
    "import csv\n",
    "import re\n",
    "import statistics\n",
    "\n",
    "def main(argv):\n",
    "    in_data_lst = []\n",
    "    try:\n",
    "         in_data_lst = read_infile(argv[1]) \n",
    "         preprocess_data(in_data_lst,argv[2],argv[3]) \n",
    "    except:\n",
    "         print(\"Need input filename, and 2 output file names\")\n",
    "\n",
    "def read_infile(filename):\n",
    "    '''\n",
    "    input is the csv filename\n",
    "    output is a list with all the fields\n",
    "    '''\n",
    "    in_data_lst = []\n",
    "    with open(filename,'r') as csvfile:\n",
    "        input_val = csv.reader(csvfile, delimiter='|')\n",
    "        for row in input_val:\n",
    "            in_data_lst.append(row)\n",
    "    return (in_data_lst)\n",
    "\n",
    "def preprocess_data(data,file1,file2):\n",
    "    '''\n",
    "    input is the data list, and the two files to write the output\n",
    "    output is the two written files after processing info\n",
    "    '''\n",
    "    id_zip_dict = {}  # dictionary with (id,zipcode) as keys that stores freq and amt\n",
    "    id_date_dict = {} # dictionary with (id,date) as keys that stores freq and amt\n",
    "    id_zip_amt_dict = {} # dictionary with zipcode as key that stores a list of amt to calculate median\n",
    "    id_date_amt_dict = {} #dictionary with date as key that stores a list of amt to calculate median\n",
    "\n",
    "    with open(file1,'w') as fw1:\n",
    "    \n",
    "     year = r\"(^[0-9]{4}(2015|2016|2017)$)\" #match year of format xxxxy where x is a digit(0-9) and y is 2015/2016/2017\n",
    "     zipcode=r\"(^[0-9]{5}$)\"  #match zipcode of format xxxxx where x is a digit(0-9)\n",
    "     for i in range(len(data)):\n",
    "        if ((data[i][0] == '')   # CMTE_ID is blank\n",
    "            or (data[i][14] == '') #TRANSACTION_AMT is blank\n",
    "               or (data[i][15] != '')): #OTHER_ID is not blank\n",
    "                    continue\n",
    "        zip_flag = False\n",
    "        year_flag = False\n",
    "        zipc = data[i][10]\n",
    "        if len(data[i][10]) >= 5: #if zipcode greater than 5 digits then get the first five digits\n",
    "            zipc = data[i][10][0:5]       \n",
    "        if re.match(zipcode,zipc):\n",
    "            zip_flag = True   #zipcode is valid\n",
    "        \n",
    "        date = data[i][13]\n",
    "        if re.match(year,date):\n",
    "            year_flag = True  #year is valid and between 2015-2017\n",
    "        \n",
    "        #process the zip dict\n",
    "        if zip_flag:\n",
    "            id_zip_dict,id_zip_amt_dict = process_id_zip(data[i][0],zipc,data[i][14],id_zip_dict,id_zip_amt_dict)\n",
    "            med = round(statistics.median(id_zip_amt_dict[(data[i][0],zipc)]))\n",
    "            fw1.write(data[i][0]+\"|\"+zipc+\"|\"+str(med)+\"|\"+str(id_zip_dict[(data[i][0],zipc)][1])+\"|\"+str(id_zip_dict[(data[i][0],zipc)][0])+\"\\n\")\n",
    "       \n",
    "        #process the date dict\n",
    "        if year_flag:\n",
    "           id_date_dict,id_date_amt_dict = process_id_date(data[i][0],date,data[i][14],id_date_dict,id_date_amt_dict)\n",
    "    \n",
    "    #sort date dictionary    \n",
    "    with open(file2,'w') as fw2:\n",
    "      for keys in sorted(id_date_dict.items()):\n",
    "        med_date = round(statistics.median(id_date_amt_dict[keys[0]]))\n",
    "        fw2.write(keys[0][0]+\"|\"+keys[0][1]+\"|\"+str(med_date)+\"|\"+str(keys[1][1])+\"|\"+str(keys[1][0])+\"\\n\")\n",
    "\n",
    "    \n",
    "def process_id_zip(custid,zipc,amt,id_zip_dict,id_zip_amt_dict):\n",
    "    '''\n",
    "    inputs are flags,CMTE_ID,ZIP_CODE,TRANSACTION_AMT,and the two zipcode dictionaries\n",
    "    outputs are the updated two zipcode dictionaries\n",
    "    '''\n",
    "        if ((custid,zipc) not in id_zip_dict):\n",
    "            fr = 1\n",
    "            am = int(amt)\n",
    "            id_zip_dict[(custid,zipc)]=[am,fr]\n",
    "            id_zip_amt_dict[custid,zipc] = [am]\n",
    "        else:\n",
    "            fr = id_zip_dict[(custid,zipc)][1] + 1\n",
    "            am = id_zip_dict[(custid,zipc)][0] + int(amt)           \n",
    "            id_zip_dict[(custid,zipc)]=[am,fr]\n",
    "            id_zip_amt_dict[(custid,zipc)].append(int(amt))\n",
    "            #sort the amt list\n",
    "            id_zip_amt_dict = {x:sorted(id_zip_amt_dict[x]) for x in id_zip_amt_dict.keys()}\n",
    "        return (id_zip_dict,id_zip_amt_dict)       \n",
    "            \n",
    "\n",
    "\n",
    "def process_id_date(custid,date,amt,id_date_dict,id_date_amt_dict):\n",
    "    '''\n",
    "    inputs are the year_flag,CMTE_ID,TRANSACTION_DATE,TRANSACTION_AMT and the two date dictionaries\n",
    "    outputs are the updated two date dictionaries\n",
    "    '''\n",
    "       if ((custid,date) not in id_date_dict):\n",
    "         fr = 1\n",
    "         am = int(amt)\n",
    "         id_date_dict[(custid,date)]=[am,fr]\n",
    "         id_date_amt_dict[custid,date] = [am]\n",
    "       else:\n",
    "         fr = id_date_dict[(custid,date)][1] + 1\n",
    "         am = id_date_dict[(custid,date)][0] + int(amt)\n",
    "         id_date_dict[(custid,date)]=[am,fr]\n",
    "         id_date_amt_dict[(custid,date)].append(int(amt))\n",
    "        #sort the amt list\n",
    "         id_date_amt_dict = {x:sorted(id_date_amt_dict[x]) for x in id_date_amt_dict.keys()}\n",
    "       return (id_date_dict,id_date_amt_dict)\n",
    "\n",
    "\n",
    "if __name__ == \"__main__\":\n",
    "    main(sys.argv)"
   ]
  }
 ],
 "metadata": {
  "kernelspec": {
   "display_name": "Python 3",
   "language": "python",
   "name": "python3"
  },
  "language_info": {
   "codemirror_mode": {
    "name": "ipython",
    "version": 3
   },
   "file_extension": ".py",
   "mimetype": "text/x-python",
   "name": "python",
   "nbconvert_exporter": "python",
   "pygments_lexer": "ipython3",
   "version": "3.6.1"
  }
 },
 "nbformat": 4,
 "nbformat_minor": 2
}
