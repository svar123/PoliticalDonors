{
 "cells": [
  {
   "cell_type": "code",
   "execution_count": 610,
   "metadata": {},
   "outputs": [],
   "source": [
    "import numpy as np\n",
    "import csv\n",
    "import re\n",
    "import statistics\n",
    "\n",
    "#from collections import Counter"
   ]
  },
  {
   "cell_type": "code",
   "execution_count": 616,
   "metadata": {},
   "outputs": [],
   "source": [
    "#read in the input files into a list\n",
    "in_data_lst=[]\n",
    "with open('../input/itcont.txt','rt') as csvfile:\n",
    "    input_val = csv.reader(csvfile, delimiter='|')\n",
    "    for row in input_val:\n",
    "        in_data_lst.append(row)\n"
   ]
  },
  {
   "cell_type": "code",
   "execution_count": 615,
   "metadata": {},
   "outputs": [
    {
     "name": "stdout",
     "output_type": "stream",
     "text": [
      "C00177436|30004|384|1|384\n",
      "C00384818|02895|250|1|250\n",
      "C00177436|30750|230|1|230\n",
      "C00177436|04105|384|1|384\n",
      "C00384818|02895|292|2|583\n",
      "C00177436|04105|384|2|768\n",
      "C00177436|01312017|384|4|1382\n",
      "C00384818|01122017|292|2|583\n"
     ]
    }
   ],
   "source": [
    "def preprocess_data(data):\n",
    "    id_zip_dict = {}\n",
    "    id_date_dict = {}\n",
    "    id_zip_amt_dict = {}\n",
    "    id_date_amt_dict = {}\n",
    "    \n",
    "    year = r\"(^[0-9]{4}(2015|2016|2017)$)\"\n",
    "    zipcode=r\"(^[0-9]{5}$)\"\n",
    "    for i in range(len(data)):\n",
    "        if ((data[i][0] == '')   # CMTE_ID is blank\n",
    "            or (data[i][14] == '') #TRANSACTION_AMT is blank\n",
    "               or (data[i][15] != '')): #OTHER_ID is not blank\n",
    "                    continue\n",
    "        zip_flag = False\n",
    "        year_flag = False\n",
    "        if len(data[i][10]) > 5: #if zipcode greater than 5 digits\n",
    "            zipc = data[i][10][0:5]       \n",
    "        if re.match(zipcode,zipc):\n",
    "            zip_flag = True   #zipcode is valid\n",
    "        date = data[i][13]\n",
    "        if re.match(year,date):\n",
    "            year_flag = True  #year is valid and between 2015-2017\n",
    "            \n",
    "        id_zip_dict,id_zip_amt_dict = process_id_zip(zip_flag,year_flag,data[i][0],zipc,data[i][14],id_zip_dict,id_zip_amt_dict)\n",
    "        med = round(statistics.median(id_zip_amt_dict[(data[i][0],zipc)]))\n",
    "        print_info_zip(data[i][0],zipc,id_zip_dict[(data[i][0],zipc)][1],id_zip_dict[(data[i][0],zipc)][0],med)\n",
    "        \n",
    "        id_date_dict,id_date_amt_dict = process_id_date(year_flag,data[i][0],date,data[i][14],id_date_dict,id_date_amt_dict)\n",
    "    for keys in id_date_dict:\n",
    "        med_date = round(statistics.median(id_date_amt_dict[keys]))\n",
    "        print_info_date(keys[0],keys[1],id_date_dict[keys][1],id_date_dict[keys][0],med_date)\n",
    "\n",
    "preprocess_data(in_data_lst) "
   ]
  },
  {
   "cell_type": "code",
   "execution_count": 612,
   "metadata": {},
   "outputs": [],
   "source": [
    "def print_info_zip(custid,zipcode,freq,amt,med):\n",
    "    print (custid+\"|\"+zipcode+\"|\"+str(med)+\"|\"+str(freq)+\"|\"+str(amt))\n",
    "\n",
    "def print_info_date(custid,date,freq,amt,med_date):\n",
    "    print (custid+\"|\"+date+\"|\"+str(med_date)+\"|\"+str(freq)+\"|\"+str(amt))"
   ]
  },
  {
   "cell_type": "code",
   "execution_count": 613,
   "metadata": {},
   "outputs": [],
   "source": [
    "def process_id_date(year_flag,custid,date,amt,id_date_dict,id_date_amt_dict):\n",
    "    if ((custid,date) not in id_date_dict):\n",
    "        fr = 1\n",
    "        am = int(amt)\n",
    "        if year_flag : #rule 4 year not invalid\n",
    "            id_date_dict[(custid,date)]=[am,fr]\n",
    "            id_date_amt_dict[custid,date] = [am]\n",
    "    else:\n",
    "        fr = id_date_dict[(custid,date)][1] + 1\n",
    "        am = id_date_dict[(custid,date)][0] + int(amt)\n",
    "        if year_flag:\n",
    "            id_date_dict[(custid,date)]=[am,fr]\n",
    "            id_date_amt_dict[(custid,date)].append(int(amt))\n",
    "        #sort the amt list\n",
    "            id_date_amt_dict = {x:sorted(id_date_amt_dict[x]) for x in id_date_amt_dict.keys()}\n",
    "    return (id_date_dict,id_date_amt_dict)           "
   ]
  },
  {
   "cell_type": "code",
   "execution_count": 614,
   "metadata": {
    "collapsed": true
   },
   "outputs": [],
   "source": [
    "def process_id_zip(zip_flag,year_flag,custid,zipc,amt,id_zip_dict,id_zip_amt_dict):\n",
    "    if zip_flag and year_flag:\n",
    "        if ((custid,zipc) not in id_zip_dict):\n",
    "            fr = 1\n",
    "            am = int(amt)\n",
    "            id_zip_dict[(custid,zipc)]=[am,fr]\n",
    "            id_zip_amt_dict[custid,zipc] = [am]\n",
    "        else:\n",
    "            fr = id_zip_dict[(custid,zipc)][1] + 1\n",
    "            am = id_zip_dict[(custid,zipc)][0] + int(amt)           \n",
    "            id_zip_dict[(custid,zipc)]=[am,fr]\n",
    "            id_zip_amt_dict[(custid,zipc)].append(int(amt))\n",
    "            #sort the amt list\n",
    "            id_zip_amt_dict = {x:sorted(id_zip_amt_dict[x]) for x in id_zip_amt_dict.keys()}\n",
    "    return (id_zip_dict,id_zip_amt_dict)       \n",
    "            \n",
    "            "
   ]
  },
  {
   "cell_type": "code",
   "execution_count": 619,
   "metadata": {},
   "outputs": [
    {
     "name": "stdout",
     "output_type": "stream",
     "text": [
      "ABC\n"
     ]
    }
   ],
   "source": [
    "import sys\n",
    "\n",
    "def main(argv):\n",
    "\n",
    "\n",
    "if __name__ == \"__main__\":\n",
    "    main(sys.argv)"
   ]
  },
  {
   "cell_type": "code",
   "execution_count": null,
   "metadata": {
    "collapsed": true
   },
   "outputs": [],
   "source": []
  }
 ],
 "metadata": {
  "kernelspec": {
   "display_name": "Python 3",
   "language": "python",
   "name": "python3"
  },
  "language_info": {
   "codemirror_mode": {
    "name": "ipython",
    "version": 3
   },
   "file_extension": ".py",
   "mimetype": "text/x-python",
   "name": "python",
   "nbconvert_exporter": "python",
   "pygments_lexer": "ipython3",
   "version": "3.6.1"
  }
 },
 "nbformat": 4,
 "nbformat_minor": 2
}
